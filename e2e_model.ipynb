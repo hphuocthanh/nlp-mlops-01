{
 "cells": [
  {
   "attachments": {},
   "cell_type": "markdown",
   "metadata": {},
   "source": [
    "# Download dataset"
   ]
  },
  {
   "cell_type": "code",
   "execution_count": 1,
   "metadata": {},
   "outputs": [],
   "source": [
    "from datasets import load_dataset"
   ]
  },
  {
   "cell_type": "code",
   "execution_count": 2,
   "metadata": {},
   "outputs": [
    {
     "data": {
      "application/vnd.jupyter.widget-view+json": {
       "model_id": "2c377871f1694bf698860374938c9650",
       "version_major": 2,
       "version_minor": 0
      },
      "text/plain": [
       "Downloading builder script:   0%|          | 0.00/28.8k [00:00<?, ?B/s]"
      ]
     },
     "metadata": {},
     "output_type": "display_data"
    },
    {
     "data": {
      "application/vnd.jupyter.widget-view+json": {
       "model_id": "a0a9c455a5024ce4a146c681705dfb57",
       "version_major": 2,
       "version_minor": 0
      },
      "text/plain": [
       "Downloading metadata:   0%|          | 0.00/28.7k [00:00<?, ?B/s]"
      ]
     },
     "metadata": {},
     "output_type": "display_data"
    },
    {
     "data": {
      "application/vnd.jupyter.widget-view+json": {
       "model_id": "6a17f7ab416a476e8380599f975cb6a2",
       "version_major": 2,
       "version_minor": 0
      },
      "text/plain": [
       "Downloading readme:   0%|          | 0.00/27.9k [00:00<?, ?B/s]"
      ]
     },
     "metadata": {},
     "output_type": "display_data"
    },
    {
     "name": "stdout",
     "output_type": "stream",
     "text": [
      "Downloading and preparing dataset glue/cola to /home/hphuocthanh/.cache/huggingface/datasets/glue/cola/1.0.0/dacbe3125aa31d7f70367a07a8a9e72a5a0bfeb5fc42e75c9db75b96da6053ad...\n"
     ]
    },
    {
     "data": {
      "application/vnd.jupyter.widget-view+json": {
       "model_id": "e6328615f92840e4b85b7cc68cce3751",
       "version_major": 2,
       "version_minor": 0
      },
      "text/plain": [
       "Downloading data:   0%|          | 0.00/377k [00:00<?, ?B/s]"
      ]
     },
     "metadata": {},
     "output_type": "display_data"
    },
    {
     "data": {
      "application/vnd.jupyter.widget-view+json": {
       "model_id": "076094459464480fafef6de672a2f100",
       "version_major": 2,
       "version_minor": 0
      },
      "text/plain": [
       "Generating train split:   0%|          | 0/8551 [00:00<?, ? examples/s]"
      ]
     },
     "metadata": {},
     "output_type": "display_data"
    },
    {
     "data": {
      "application/vnd.jupyter.widget-view+json": {
       "model_id": "5a8e43f63c4e4196925e365075ae47ad",
       "version_major": 2,
       "version_minor": 0
      },
      "text/plain": [
       "Generating validation split:   0%|          | 0/1043 [00:00<?, ? examples/s]"
      ]
     },
     "metadata": {},
     "output_type": "display_data"
    },
    {
     "data": {
      "application/vnd.jupyter.widget-view+json": {
       "model_id": "39c4ebff91b8462ca3383912a1b7c5fe",
       "version_major": 2,
       "version_minor": 0
      },
      "text/plain": [
       "Generating test split:   0%|          | 0/1063 [00:00<?, ? examples/s]"
      ]
     },
     "metadata": {},
     "output_type": "display_data"
    },
    {
     "name": "stdout",
     "output_type": "stream",
     "text": [
      "Dataset glue downloaded and prepared to /home/hphuocthanh/.cache/huggingface/datasets/glue/cola/1.0.0/dacbe3125aa31d7f70367a07a8a9e72a5a0bfeb5fc42e75c9db75b96da6053ad. Subsequent calls will reuse this data.\n"
     ]
    },
    {
     "data": {
      "application/vnd.jupyter.widget-view+json": {
       "model_id": "aa8eef60f57245bda6a6bdd1311f6871",
       "version_major": 2,
       "version_minor": 0
      },
      "text/plain": [
       "  0%|          | 0/3 [00:00<?, ?it/s]"
      ]
     },
     "metadata": {},
     "output_type": "display_data"
    },
    {
     "name": "stdout",
     "output_type": "stream",
     "text": [
      "DatasetDict({\n",
      "    train: Dataset({\n",
      "        features: ['sentence', 'label', 'idx'],\n",
      "        num_rows: 8551\n",
      "    })\n",
      "    validation: Dataset({\n",
      "        features: ['sentence', 'label', 'idx'],\n",
      "        num_rows: 1043\n",
      "    })\n",
      "    test: Dataset({\n",
      "        features: ['sentence', 'label', 'idx'],\n",
      "        num_rows: 1063\n",
      "    })\n",
      "})\n"
     ]
    }
   ],
   "source": [
    "cola_dataset = load_dataset(\"glue\", \"cola\")\n",
    "print(cola_dataset)"
   ]
  },
  {
   "cell_type": "code",
   "execution_count": 3,
   "metadata": {},
   "outputs": [
    {
     "name": "stdout",
     "output_type": "stream",
     "text": [
      "{'sentence': \"Our friends won't buy this analysis, let alone the next one we propose.\", 'label': 1, 'idx': 0}\n"
     ]
    }
   ],
   "source": [
    "train_dataset = cola_dataset['train']\n",
    "print(train_dataset[0])"
   ]
  },
  {
   "attachments": {},
   "cell_type": "markdown",
   "metadata": {},
   "source": [
    "# Create a pytorch lightning data module\n",
    "## preprocess data (setup, tokenization, ..)"
   ]
  },
  {
   "cell_type": "code",
   "execution_count": 16,
   "metadata": {},
   "outputs": [],
   "source": [
    "import lightning.pytorch as pl\n",
    "from torch.utils.data import DataLoader\n",
    "\n",
    "model_nn = 'google/bert_uncased_L-2_H-128_A-2'\n",
    "bs = 16\n",
    "class DataModule(pl.LightningDataModule):\n",
    "  def __init__(self, model_name=model_nn, batch_size=bs):\n",
    "    super().__init__()\n",
    "\n",
    "    self.batch_size = batch_size\n",
    "    self.tokenizer = AutoTokenizer.from_pretrained(model_name)\n",
    "  \n",
    "  def prepare_data(self):\n",
    "    cola_dataset = load_dataset(\"glue\", \"cola\")\n",
    "    self.train_data = cola_dataset['train']\n",
    "    self.val_data = cola_dataset['validation']\n",
    "\n",
    "  def tokenize_data(self, sample):\n",
    "    return self.tokenizer(sample['sentence'], truncation=True, padding=\"max_length\", max_length=256)\n",
    "  \n",
    "  def setup(self, stage=None):\n",
    "    if stage == 'fit' or stage is None:\n",
    "      self.train_data = self.train_data.map(self.tokenize_data, batched=True)\n",
    "      self.train_data.set_format(\n",
    "        type=\"torch\", columns=['input_ids', 'attention_mask', 'label']\n",
    "      )\n",
    "\n",
    "      self.val_data = self.val_data.map(self.tokenize_data, batched=True)\n",
    "      self.val_data.set_format(\n",
    "        type=\"torch\", columns=['input_ids', 'attention_mask', 'label']\n",
    "      )\n",
    "  \n",
    "  def train_dataloader(self):\n",
    "    return DataLoader(self.train_data, batch_size=self.batch_size, shuffle=True)\n",
    "  \n",
    "  def val_dataloader(self):\n",
    "    return DataLoader(self.val_data, batch_size=self.batch_size, shuffle=True)"
   ]
  },
  {
   "cell_type": "markdown",
   "metadata": {},
   "source": [
    "# Define the model with lightningmodule"
   ]
  },
  {
   "cell_type": "code",
   "execution_count": 12,
   "metadata": {},
   "outputs": [],
   "source": [
    "import lightning.pytorch as pl\n",
    "from torch import nn\n",
    "from transformers import AutoTokenizer, AutoModel\n",
    "import torch.nn.functional as F\n",
    "import torch\n",
    "from sklearn.metrics import accuracy_score\n",
    "\n",
    "learning_rate = 1e-2\n",
    "\n",
    "class ColaModel(pl.LightningModule):\n",
    "  def __init__(self, model_name=model_nn, lr=learning_rate):\n",
    "    super(ColaModel, self).__init__()\n",
    "    self.save_hyperparameters()\n",
    "\n",
    "    self.bert = AutoModel.from_pretrained(model_name)\n",
    "    self.W = nn.Linear(self.bert.config.hidden_size, 2)\n",
    "    self.num_classes = 2\n",
    "  \n",
    "  def forward(self, input_ids, attention_mask):\n",
    "    outputs = self.bert(input_ids=input_ids, attention_mask=attention_mask)\n",
    "\n",
    "    h_cls = outputs.last_hidden_state[:, 0]\n",
    "    logits = self.W(h_cls)\n",
    "    return logits\n",
    "\n",
    "  def training_step(self, batch, batch_idx):\n",
    "    logits = self.forward(batch['input_ids'], batch['attention_mask'])\n",
    "    loss = F.cross_entropy(logits, batch['label'])\n",
    "    self.log(\"train_loss\", loss, prog_bar=True)\n",
    "    return loss\n",
    "  \n",
    "  def validation_step(self, batch, batch_idx):\n",
    "    logits = self.forward(batch['input_ids'], batch['attention_mask'])\n",
    "    loss = F.cross_entropy(logits, batch['label'])\n",
    "    _, preds = torch.max(logits, dim=1)\n",
    "    val_acc = accuracy_score(preds.cpu(), batch[\"label\"].cpu())\n",
    "    val_acc = torch.tensor(val_acc)\n",
    "    self.log(\"val_loss\", loss, prog_bar=True)\n",
    "    self.log(\"val_acc\", val_acc, prog_bar=True)\n",
    "\n",
    "  def configure_optimizers(self):\n",
    "    return torch.optim.Adam(self.parameters(), lr=self.hparams[\"lr\"])"
   ]
  },
  {
   "attachments": {},
   "cell_type": "markdown",
   "metadata": {},
   "source": [
    "# Train the model"
   ]
  },
  {
   "cell_type": "code",
   "execution_count": 18,
   "metadata": {},
   "outputs": [
    {
     "name": "stderr",
     "output_type": "stream",
     "text": [
      "Some weights of the model checkpoint at google/bert_uncased_L-2_H-128_A-2 were not used when initializing BertModel: ['cls.predictions.transform.LayerNorm.weight', 'cls.predictions.decoder.bias', 'cls.seq_relationship.weight', 'cls.predictions.transform.LayerNorm.bias', 'cls.predictions.transform.dense.weight', 'cls.predictions.transform.dense.bias', 'cls.predictions.decoder.weight', 'cls.predictions.bias', 'cls.seq_relationship.bias']\n",
      "- This IS expected if you are initializing BertModel from the checkpoint of a model trained on another task or with another architecture (e.g. initializing a BertForSequenceClassification model from a BertForPreTraining model).\n",
      "- This IS NOT expected if you are initializing BertModel from the checkpoint of a model that you expect to be exactly identical (initializing a BertForSequenceClassification model from a BertForSequenceClassification model).\n",
      "GPU available: True (cuda), used: True\n",
      "TPU available: False, using: 0 TPU cores\n",
      "IPU available: False, using: 0 IPUs\n",
      "HPU available: False, using: 0 HPUs\n",
      "Found cached dataset glue (/home/hphuocthanh/.cache/huggingface/datasets/glue/cola/1.0.0/dacbe3125aa31d7f70367a07a8a9e72a5a0bfeb5fc42e75c9db75b96da6053ad)\n"
     ]
    },
    {
     "data": {
      "application/vnd.jupyter.widget-view+json": {
       "model_id": "01ffd4f6b79e4934b0536527eff29f03",
       "version_major": 2,
       "version_minor": 0
      },
      "text/plain": [
       "  0%|          | 0/3 [00:00<?, ?it/s]"
      ]
     },
     "metadata": {},
     "output_type": "display_data"
    },
    {
     "data": {
      "application/vnd.jupyter.widget-view+json": {
       "model_id": "f72ca86782184b6d9a850ead14c6a5e6",
       "version_major": 2,
       "version_minor": 0
      },
      "text/plain": [
       "Map:   0%|          | 0/8551 [00:00<?, ? examples/s]"
      ]
     },
     "metadata": {},
     "output_type": "display_data"
    },
    {
     "data": {
      "application/vnd.jupyter.widget-view+json": {
       "model_id": "a7cb72d1a48e480d83c088a5ca66611e",
       "version_major": 2,
       "version_minor": 0
      },
      "text/plain": [
       "Map:   0%|          | 0/1043 [00:00<?, ? examples/s]"
      ]
     },
     "metadata": {},
     "output_type": "display_data"
    },
    {
     "name": "stderr",
     "output_type": "stream",
     "text": [
      "LOCAL_RANK: 0 - CUDA_VISIBLE_DEVICES: [0]\n",
      "\n",
      "  | Name | Type      | Params\n",
      "-----------------------------------\n",
      "0 | bert | BertModel | 4.4 M \n",
      "1 | W    | Linear    | 258   \n",
      "-----------------------------------\n",
      "4.4 M     Trainable params\n",
      "0         Non-trainable params\n",
      "4.4 M     Total params\n",
      "17.545    Total estimated model params size (MB)\n"
     ]
    },
    {
     "data": {
      "application/vnd.jupyter.widget-view+json": {
       "model_id": "0bf9a8f61e534d2aa6928b09ff775b40",
       "version_major": 2,
       "version_minor": 0
      },
      "text/plain": [
       "Sanity Checking: 0it [00:00, ?it/s]"
      ]
     },
     "metadata": {},
     "output_type": "display_data"
    },
    {
     "name": "stderr",
     "output_type": "stream",
     "text": [
      "/home/hphuocthanh/mambaforge/lib/python3.10/site-packages/lightning/pytorch/trainer/connectors/data_connector.py:478: PossibleUserWarning: Your `val_dataloader`'s sampler has shuffling enabled, it is strongly recommended that you turn shuffling off for val/test dataloaders.\n",
      "  rank_zero_warn(\n",
      "/home/hphuocthanh/mambaforge/lib/python3.10/site-packages/lightning/pytorch/trainer/connectors/data_connector.py:430: PossibleUserWarning: The dataloader, val_dataloader, does not have many workers which may be a bottleneck. Consider increasing the value of the `num_workers` argument` (try 16 which is the number of cpus on this machine) in the `DataLoader` init to improve performance.\n",
      "  rank_zero_warn(\n",
      "/home/hphuocthanh/mambaforge/lib/python3.10/site-packages/lightning/pytorch/trainer/connectors/data_connector.py:430: PossibleUserWarning: The dataloader, train_dataloader, does not have many workers which may be a bottleneck. Consider increasing the value of the `num_workers` argument` (try 16 which is the number of cpus on this machine) in the `DataLoader` init to improve performance.\n",
      "  rank_zero_warn(\n"
     ]
    },
    {
     "data": {
      "application/vnd.jupyter.widget-view+json": {
       "model_id": "93302f1dbc964a4d8c8eafaab3137c0a",
       "version_major": 2,
       "version_minor": 0
      },
      "text/plain": [
       "Training: 0it [00:00, ?it/s]"
      ]
     },
     "metadata": {},
     "output_type": "display_data"
    },
    {
     "data": {
      "application/vnd.jupyter.widget-view+json": {
       "model_id": "b93671662b3a48bb911d91dc598c43da",
       "version_major": 2,
       "version_minor": 0
      },
      "text/plain": [
       "Validation: 0it [00:00, ?it/s]"
      ]
     },
     "metadata": {},
     "output_type": "display_data"
    },
    {
     "name": "stderr",
     "output_type": "stream",
     "text": [
      "Metric val_loss improved. New best score: 0.621\n",
      "`Trainer.fit` stopped: `max_epochs=1` reached.\n"
     ]
    }
   ],
   "source": [
    "from lightning.pytorch.callbacks import ModelCheckpoint\n",
    "from lightning.pytorch.callbacks.early_stopping import EarlyStopping\n",
    "\n",
    "cola_data = DataModule()\n",
    "cola_model = ColaModel()\n",
    "\n",
    "checkpoint_callback = ModelCheckpoint(\n",
    "    dirpath=\"./models\", monitor=\"val_loss\", mode=\"min\"\n",
    ")\n",
    "early_stopping_callback = EarlyStopping(\n",
    "    monitor=\"val_loss\", patience=3, verbose=True, mode=\"min\"\n",
    ")\n",
    "\n",
    "trainer = pl.Trainer(\n",
    "    devices=(1 if torch.cuda.is_available() else 0),\n",
    "    max_epochs=1,\n",
    "    fast_dev_run=False,\n",
    "    logger=pl.loggers.TensorBoardLogger(\"logs/\", name=\"cola\", version=1),\n",
    "    default_root_dir=\"logs\",\n",
    "    callbacks=[checkpoint_callback, early_stopping_callback],\n",
    ")\n",
    "trainer.fit(cola_model, cola_data)"
   ]
  },
  {
   "attachments": {},
   "cell_type": "markdown",
   "metadata": {},
   "source": [
    "# Inference model"
   ]
  },
  {
   "cell_type": "code",
   "execution_count": 19,
   "metadata": {},
   "outputs": [],
   "source": [
    "class ColaPredictor:\n",
    "    def __init__(self, model_path):\n",
    "        self.model_path = model_path\n",
    "        # loading the trained model\n",
    "        self.model = ColaModel.load_from_checkpoint(model_path)\n",
    "        # keep the model in eval mode\n",
    "        self.model.eval()\n",
    "        self.model.freeze()\n",
    "        self.processor = DataModule()\n",
    "        self.softmax = torch.nn.Softmax(dim=0)\n",
    "        self.labels = [\"unacceptable\", \"acceptable\"]\n",
    "\n",
    "    def predict(self, text):\n",
    "        # text => run time input\n",
    "        inference_sample = {\"sentence\": text}\n",
    "        # tokenizing the input\n",
    "        processed = self.processor.tokenize_data(inference_sample)\n",
    "        # predictions\n",
    "        logits = self.model(\n",
    "            torch.tensor([processed[\"input_ids\"]]),\n",
    "            torch.tensor([processed[\"attention_mask\"]]),\n",
    "        )\n",
    "        scores = self.softmax(logits[0]).tolist()\n",
    "        predictions = []\n",
    "        for score, label in zip(scores, self.labels):\n",
    "            predictions.append({\"label\": label, \"score\": score})\n",
    "        return predictions"
   ]
  },
  {
   "cell_type": "code",
   "execution_count": 20,
   "metadata": {},
   "outputs": [
    {
     "name": "stderr",
     "output_type": "stream",
     "text": [
      "Some weights of the model checkpoint at google/bert_uncased_L-2_H-128_A-2 were not used when initializing BertModel: ['cls.predictions.transform.LayerNorm.weight', 'cls.predictions.decoder.bias', 'cls.seq_relationship.weight', 'cls.predictions.transform.LayerNorm.bias', 'cls.predictions.transform.dense.weight', 'cls.predictions.transform.dense.bias', 'cls.predictions.decoder.weight', 'cls.predictions.bias', 'cls.seq_relationship.bias']\n",
      "- This IS expected if you are initializing BertModel from the checkpoint of a model trained on another task or with another architecture (e.g. initializing a BertForSequenceClassification model from a BertForPreTraining model).\n",
      "- This IS NOT expected if you are initializing BertModel from the checkpoint of a model that you expect to be exactly identical (initializing a BertForSequenceClassification model from a BertForSequenceClassification model).\n"
     ]
    },
    {
     "name": "stdout",
     "output_type": "stream",
     "text": [
      "[{'label': 'unacceptable', 'score': 0.28197792172431946}, {'label': 'acceptable', 'score': 0.7180220484733582}]\n"
     ]
    }
   ],
   "source": [
    "sentence = \"The boy is doing a standup comedy\"\n",
    "predictor = ColaPredictor(\"./models/epoch=0-step=535.ckpt\")\n",
    "print(predictor.predict(sentence))"
   ]
  }
 ],
 "metadata": {
  "kernelspec": {
   "display_name": "base",
   "language": "python",
   "name": "python3"
  },
  "language_info": {
   "codemirror_mode": {
    "name": "ipython",
    "version": 3
   },
   "file_extension": ".py",
   "mimetype": "text/x-python",
   "name": "python",
   "nbconvert_exporter": "python",
   "pygments_lexer": "ipython3",
   "version": "3.10.10"
  },
  "orig_nbformat": 4
 },
 "nbformat": 4,
 "nbformat_minor": 2
}
